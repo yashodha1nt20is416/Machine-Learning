{
 "cells": [
  {
   "cell_type": "code",
   "execution_count": 1,
   "metadata": {},
   "outputs": [
    {
     "name": "stdout",
     "output_type": "stream",
     "text": [
      "yashodha\n"
     ]
    }
   ],
   "source": [
    "#printing string\n",
    "print(\"yashodha\")"
   ]
  },
  {
   "cell_type": "code",
   "execution_count": 4,
   "metadata": {},
   "outputs": [
    {
     "name": "stdout",
     "output_type": "stream",
     "text": [
      "10\n",
      "Hello yashodha\n",
      "[10, 20, 30]\n",
      "(10, 20)\n"
     ]
    }
   ],
   "source": [
    "a = 10\n",
    "print(a)\n",
    "print(\"Hello yashodha\")\n",
    "c = [10,20,30]\n",
    "print(c)\n",
    "d = (10,20)\n",
    "print(d)"
   ]
  },
  {
   "cell_type": "code",
   "execution_count": 5,
   "metadata": {},
   "outputs": [
    {
     "name": "stdout",
     "output_type": "stream",
     "text": [
      "[10, 20, 30]\n"
     ]
    }
   ],
   "source": [
    "#printing list\n",
    "c = [10,20,30]\n",
    "print(c)"
   ]
  },
  {
   "cell_type": "code",
   "execution_count": 6,
   "metadata": {},
   "outputs": [
    {
     "name": "stdout",
     "output_type": "stream",
     "text": [
      "(10, 20)\n"
     ]
    }
   ],
   "source": [
    "#printing tuple\n",
    "d = (10,20)\n",
    "print(d)"
   ]
  },
  {
   "cell_type": "code",
   "execution_count": 7,
   "metadata": {},
   "outputs": [
    {
     "name": "stdout",
     "output_type": "stream",
     "text": [
      "{'Name': 'Yashodha', 'USN': '1NT20IS416', 'Branch': 'ISE'}\n"
     ]
    }
   ],
   "source": [
    "#dictionary\n",
    "dictionary = {\n",
    "    \"Name\" : \"Yashodha\",\n",
    "    \"USN\" : \"1NT20IS416\",\n",
    "    \"Branch\" : \"ISE\"\n",
    "}\n",
    "print(dictionary)"
   ]
  },
  {
   "cell_type": "code",
   "execution_count": 8,
   "metadata": {},
   "outputs": [
    {
     "name": "stdout",
     "output_type": "stream",
     "text": [
      "{'Name': 'Yashodha', 'USN': '1NT20IS416', 'Branch': 'ISE'}\n",
      "3\n"
     ]
    }
   ],
   "source": [
    "dictionary = {\n",
    "    \"Name\" : \"Yashodha\",\n",
    "    \"USN\" : \"1NT20IS416\",\n",
    "    \"Branch\" : \"ISE\"\n",
    "}\n",
    "print(dictionary)\n",
    "print(len(dictionary))"
   ]
  },
  {
   "cell_type": "code",
   "execution_count": 19,
   "metadata": {},
   "outputs": [
    {
     "name": "stdout",
     "output_type": "stream",
     "text": [
      "{'Name': 'Yashodha', 'USN': '1NT20IS416', 'Branch': 'ISE', 'Subject': ['sc', 'spm']}\n",
      "4\n"
     ]
    }
   ],
   "source": [
    "dictionary = {\n",
    "    \"Name\" : \"Yashodha\",\n",
    "    \"USN\" : \"1NT20IS416\",\n",
    "    \"Branch\" : \"ISE\",\n",
    "    \"Subject\": [\"sc\",\"spm\"]\n",
    "}\n",
    "print(dictionary)\n",
    "print(len(dictionary))"
   ]
  },
  {
   "cell_type": "code",
   "execution_count": 20,
   "metadata": {},
   "outputs": [
    {
     "name": "stdout",
     "output_type": "stream",
     "text": [
      "{'Name': 'Yashodha', 'USN': '1NT20IS416', 'Branch': 'ISE', 'Subject': ['sc', 'spm']}\n",
      "4\n",
      "<class 'dict'>\n"
     ]
    }
   ],
   "source": [
    "dictionary = {\n",
    "    \"Name\" : \"Yashodha\",\n",
    "    \"USN\" : \"1NT20IS416\",\n",
    "    \"Branch\" : \"ISE\",\n",
    "    \"Subject\": [\"sc\",\"spm\"]\n",
    "}\n",
    "print(dictionary)\n",
    "print(len(dictionary))\n",
    "print(type(dictionary))"
   ]
  },
  {
   "cell_type": "code",
   "execution_count": 24,
   "metadata": {},
   "outputs": [
    {
     "name": "stdout",
     "output_type": "stream",
     "text": [
      "{'chandini', 'annapurna', 'asha', 'yashodha'}\n"
     ]
    }
   ],
   "source": [
    "names = {\"yashodha\",\"chandini\",\"annapurna\",\"asha\",\"yashodha\",\"asha\"}\n",
    "print(names)"
   ]
  },
  {
   "cell_type": "code",
   "execution_count": 31,
   "metadata": {},
   "outputs": [
    {
     "name": "stdout",
     "output_type": "stream",
     "text": [
      "['yashodha', 'annapurna', 'Chandini']\n",
      "<class 'list'>\n"
     ]
    }
   ],
   "source": [
    "name1 = [\"yashodha\",\"annapurna\",\"Chandini\"]\n",
    "name2 = [416,401,403]\n",
    "print(name1)\n",
    "print(type(name2))"
   ]
  },
  {
   "cell_type": "code",
   "execution_count": 34,
   "metadata": {},
   "outputs": [
    {
     "name": "stdout",
     "output_type": "stream",
     "text": [
      "b is not greate that a\n"
     ]
    }
   ],
   "source": [
    "#boolean\n",
    "a = 200\n",
    "b = 33\n",
    "if b > a:\n",
    "    print(\"b is greater than a\")\n",
    "else:\n",
    "    print(\"b is not greate that a\")"
   ]
  },
  {
   "cell_type": "code",
   "execution_count": 35,
   "metadata": {},
   "outputs": [
    {
     "name": "stdout",
     "output_type": "stream",
     "text": [
      "True\n",
      "True\n"
     ]
    }
   ],
   "source": [
    "x = \"Hello\"\n",
    "y = 15\n",
    "\n",
    "print(bool(x))\n",
    "print(bool(y))"
   ]
  },
  {
   "cell_type": "code",
   "execution_count": 36,
   "metadata": {},
   "outputs": [
    {
     "data": {
      "text/plain": [
       "True"
      ]
     },
     "execution_count": 36,
     "metadata": {},
     "output_type": "execute_result"
    }
   ],
   "source": [
    "bool(\"abc\")\n",
    "bool(123)\n",
    "bool([\"apple\",\"cherry\",\"banana\"])"
   ]
  },
  {
   "cell_type": "code",
   "execution_count": 38,
   "metadata": {},
   "outputs": [
    {
     "name": "stdout",
     "output_type": "stream",
     "text": [
      "apple\n",
      "banana\n",
      "cherry\n"
     ]
    }
   ],
   "source": [
    "fruits = [\"apple\",\"banana\",\"cherry\"]\n",
    "for x in fruits:\n",
    "    print(x)"
   ]
  },
  {
   "cell_type": "code",
   "execution_count": 39,
   "metadata": {},
   "outputs": [
    {
     "name": "stdout",
     "output_type": "stream",
     "text": [
      "apple\n",
      "banana\n"
     ]
    }
   ],
   "source": [
    "fruits = [\"apple\",\"banana\",\"cherry\"]\n",
    "for x in fruits:\n",
    "    print(x)\n",
    "    if x == \"banana\":\n",
    "        break"
   ]
  },
  {
   "cell_type": "code",
   "execution_count": 42,
   "metadata": {},
   "outputs": [
    {
     "name": "stdout",
     "output_type": "stream",
     "text": [
      "2\n",
      "5\n",
      "8\n",
      "11\n",
      "14\n",
      "17\n",
      "20\n",
      "23\n",
      "26\n",
      "29\n"
     ]
    }
   ],
   "source": [
    "for x in range(2,30,3):\n",
    "    print(x)"
   ]
  },
  {
   "cell_type": "code",
   "execution_count": 43,
   "metadata": {},
   "outputs": [
    {
     "name": "stdout",
     "output_type": "stream",
     "text": [
      "0\n",
      "1\n",
      "2\n",
      "3\n",
      "4\n",
      "5\n",
      "Finally finished!\n"
     ]
    }
   ],
   "source": [
    "for x in range(6):\n",
    "    print(x)\n",
    "else:\n",
    "    print(\"Finally finished!\")"
   ]
  },
  {
   "cell_type": "code",
   "execution_count": 46,
   "metadata": {},
   "outputs": [
    {
     "name": "stdout",
     "output_type": "stream",
     "text": [
      "0\n",
      "1\n"
     ]
    }
   ],
   "source": [
    "for x in range(6):\n",
    "    if x == 2: break\n",
    "    print(x)\n",
    "else:\n",
    "    print(\"Finally finished!\")"
   ]
  },
  {
   "cell_type": "code",
   "execution_count": 47,
   "metadata": {},
   "outputs": [
    {
     "name": "stdout",
     "output_type": "stream",
     "text": [
      "red apple\n",
      "red banana\n",
      "red cherry\n",
      "big apple\n",
      "big banana\n",
      "big cherry\n",
      "tasty apple\n",
      "tasty banana\n",
      "tasty cherry\n"
     ]
    }
   ],
   "source": [
    "adj = [\"red\",\"big\",\"tasty\"]\n",
    "fruits = [\"apple\",\"banana\",\"cherry\"]\n",
    "\n",
    "for x in adj:\n",
    "    for y in fruits:\n",
    "        print(x,y)"
   ]
  },
  {
   "cell_type": "code",
   "execution_count": 1,
   "metadata": {},
   "outputs": [
    {
     "name": "stdout",
     "output_type": "stream",
     "text": [
      "Chandini Yashodha Annapurna\n"
     ]
    }
   ],
   "source": [
    "#swap,linear,binary,bubble\n",
    "a=\"Yashodha\"\n",
    "b=\"Chandini\"\n",
    "c=\"Annapurna\"\n",
    "b,a,c=a,b,c\n",
    "print(a,b,c)"
   ]
  },
  {
   "cell_type": "code",
   "execution_count": 57,
   "metadata": {},
   "outputs": [
    {
     "name": "stdout",
     "output_type": "stream",
     "text": [
      "5\n"
     ]
    }
   ],
   "source": [
    "#linear search\n",
    "def search(a,key):\n",
    "    for i in range(len(a)):\n",
    "        if key==a[i]:\n",
    "            return i+1\n",
    "    return -1\n",
    "a=[10,20,30,40,50,60]\n",
    "print(search(a,50))  \n"
   ]
  },
  {
   "cell_type": "code",
   "execution_count": 34,
   "metadata": {},
   "outputs": [
    {
     "name": "stdout",
     "output_type": "stream",
     "text": [
      "7\n"
     ]
    }
   ],
   "source": [
    "numbers = [80,90,100,120S,130,145,150]\n",
    "length = len(numbers);\n",
    "print(length)\n"
   ]
  },
  {
   "cell_type": "markdown",
   "metadata": {},
   "source": []
  },
  {
   "cell_type": "markdown",
   "metadata": {},
   "source": [
    "# Mean program\n"
   ]
  },
  {
   "cell_type": "code",
   "execution_count": 36,
   "metadata": {},
   "outputs": [
    {
     "name": "stdout",
     "output_type": "stream",
     "text": [
      "Mean is 116.42857142857143\n"
     ]
    }
   ],
   "source": [
    "def Mean():\n",
    "    length = len(numbers)\n",
    "    sum = 0\n",
    "    for i in numbers:\n",
    "        sum = sum+i\n",
    "        mean= sum/length\n",
    "    print(\"Mean is\",mean)\n",
    "Mean()"
   ]
  },
  {
   "cell_type": "markdown",
   "metadata": {},
   "source": [
    "# Median Program"
   ]
  },
  {
   "cell_type": "code",
   "execution_count": 55,
   "metadata": {},
   "outputs": [
    {
     "name": "stdout",
     "output_type": "stream",
     "text": [
      "Median is:120\n"
     ]
    }
   ],
   "source": [
    "n = len(numbers)\n",
    "numbers.sort()\n",
    "\n",
    "if n % 2 ==0:\n",
    "    median1 = numbers[n//2]\n",
    "    median2 = numbers[n//2 - 1]\n",
    "    median = (median1 + median2)/2\n",
    "else:\n",
    "    median = numbers[n//2]\n",
    "print(\"Median is:\" + str(median))"
   ]
  },
  {
   "cell_type": "markdown",
   "metadata": {},
   "source": [
    "# Mode Program"
   ]
  },
  {
   "cell_type": "code",
   "execution_count": 58,
   "metadata": {},
   "outputs": [
    {
     "ename": "SyntaxError",
     "evalue": "invalid syntax (<ipython-input-58-fc406ebc43f8>, line 1)",
     "output_type": "error",
     "traceback": [
      "\u001b[0;36m  File \u001b[0;32m\"<ipython-input-58-fc406ebc43f8>\"\u001b[0;36m, line \u001b[0;32m1\u001b[0m\n\u001b[0;31m    n =\u001b[0m\n\u001b[0m        ^\u001b[0m\n\u001b[0;31mSyntaxError\u001b[0m\u001b[0;31m:\u001b[0m invalid syntax\n"
     ]
    }
   ],
   "source": []
  },
  {
   "cell_type": "code",
   "execution_count": 59,
   "metadata": {},
   "outputs": [
    {
     "name": "stdout",
     "output_type": "stream",
     "text": [
      "3\n"
     ]
    }
   ],
   "source": [
    "#binary search\n",
    "def binary(a,l,h,item):\n",
    "    while l<=h:\n",
    "        mid=l+h //2\n",
    "        if a[mid]==item:\n",
    "            return mid\n",
    "        elif a[mid]< item:\n",
    "            l=mid+1\n",
    "        else:\n",
    "            h=mid-1\n",
    "    return -1\n",
    "    \n",
    "a=[10,20,30,40,50,60,70,80]\n",
    "print(binary(a,0,len(a),40))"
   ]
  },
  {
   "cell_type": "code",
   "execution_count": 60,
   "metadata": {},
   "outputs": [
    {
     "data": {
      "text/plain": [
       "[2, 3, 33, 34, 44, 55, 57, 116, 233, 988]"
      ]
     },
     "execution_count": 60,
     "metadata": {},
     "output_type": "execute_result"
    }
   ],
   "source": [
    "#bubble sort\n",
    "def bubble(a):\n",
    "    for j in range(len(a)):\n",
    "        for i in range(0,len(a)-j-1):\n",
    "            if a[i]>a[i+1]:\n",
    "                a[i],a[i+1]=a[i+1],a[i]\n",
    "    return #bubble sort\n",
    "def bubble(a):\n",
    "    for j in range(len(a)):\n",
    "        for i in range(0,len(a)-j-1):\n",
    "            if a[i]>a[i+1]:\n",
    "                a[i],a[i+1]=a[i+1],a[i]\n",
    "    return a\n",
    "a=[233,44,116,3,57,33,2,34,55,988]\n",
    "bubble(a)a\n",
    "a=[233,44,116,3,57,33,2,34,55,988]\n",
    "bubble(a)"
   ]
  },
  {
   "cell_type": "code",
   "execution_count": null,
   "metadata": {},
   "outputs": [],
   "source": []
  }
 ],
 "metadata": {
  "kernelspec": {
   "display_name": "Python 3",
   "language": "python",
   "name": "python3"
  },
  "language_info": {
   "codemirror_mode": {
    "name": "ipython",
    "version": 3
   },
   "file_extension": ".py",
   "mimetype": "text/x-python",
   "name": "python",
   "nbconvert_exporter": "python",
   "pygments_lexer": "ipython3",
   "version": "3.8.10"
  }
 },
 "nbformat": 4,
 "nbformat_minor": 4
}
