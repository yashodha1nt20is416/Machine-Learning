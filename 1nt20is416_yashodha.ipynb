{
 "cells": [
  {
   "cell_type": "code",
   "execution_count": 1,
   "metadata": {},
   "outputs": [
    {
     "name": "stdout",
     "output_type": "stream",
     "text": [
      "yashodha\n"
     ]
    }
   ],
   "source": [
    "#printing string\n",
    "print(\"yashodha\")"
   ]
  },
  {
   "cell_type": "code",
   "execution_count": 4,
   "metadata": {},
   "outputs": [
    {
     "name": "stdout",
     "output_type": "stream",
     "text": [
      "10\n",
      "Hello yashodha\n",
      "[10, 20, 30]\n",
      "(10, 20)\n"
     ]
    }
   ],
   "source": [
    "a = 10\n",
    "print(a)\n",
    "print(\"Hello yashodha\")\n",
    "c = [10,20,30]\n",
    "print(c)\n",
    "d = (10,20)\n",
    "print(d)"
   ]
  },
  {
   "cell_type": "code",
   "execution_count": 5,
   "metadata": {},
   "outputs": [
    {
     "name": "stdout",
     "output_type": "stream",
     "text": [
      "[10, 20, 30]\n"
     ]
    }
   ],
   "source": [
    "#printing list\n",
    "c = [10,20,30]\n",
    "print(c)"
   ]
  },
  {
   "cell_type": "code",
   "execution_count": 6,
   "metadata": {},
   "outputs": [
    {
     "name": "stdout",
     "output_type": "stream",
     "text": [
      "(10, 20)\n"
     ]
    }
   ],
   "source": [
    "#printing tuple\n",
    "d = (10,20)\n",
    "print(d)"
   ]
  },
  {
   "cell_type": "code",
   "execution_count": 7,
   "metadata": {},
   "outputs": [
    {
     "name": "stdout",
     "output_type": "stream",
     "text": [
      "{'Name': 'Yashodha', 'USN': '1NT20IS416', 'Branch': 'ISE'}\n"
     ]
    }
   ],
   "source": [
    "#dictionary\n",
    "dictionary = {\n",
    "    \"Name\" : \"Yashodha\",\n",
    "    \"USN\" : \"1NT20IS416\",\n",
    "    \"Branch\" : \"ISE\"\n",
    "}\n",
    "print(dictionary)"
   ]
  },
  {
   "cell_type": "code",
   "execution_count": 8,
   "metadata": {},
   "outputs": [
    {
     "name": "stdout",
     "output_type": "stream",
     "text": [
      "{'Name': 'Yashodha', 'USN': '1NT20IS416', 'Branch': 'ISE'}\n",
      "3\n"
     ]
    }
   ],
   "source": [
    "dictionary = {\n",
    "    \"Name\" : \"Yashodha\",\n",
    "    \"USN\" : \"1NT20IS416\",\n",
    "    \"Branch\" : \"ISE\"\n",
    "}\n",
    "print(dictionary)\n",
    "print(len(dictionary))"
   ]
  },
  {
   "cell_type": "code",
   "execution_count": 19,
   "metadata": {},
   "outputs": [
    {
     "name": "stdout",
     "output_type": "stream",
     "text": [
      "{'Name': 'Yashodha', 'USN': '1NT20IS416', 'Branch': 'ISE', 'Subject': ['sc', 'spm']}\n",
      "4\n"
     ]
    }
   ],
   "source": [
    "dictionary = {\n",
    "    \"Name\" : \"Yashodha\",\n",
    "    \"USN\" : \"1NT20IS416\",\n",
    "    \"Branch\" : \"ISE\",\n",
    "    \"Subject\": [\"sc\",\"spm\"]\n",
    "}\n",
    "print(dictionary)\n",
    "print(len(dictionary))"
   ]
  },
  {
   "cell_type": "code",
   "execution_count": 20,
   "metadata": {},
   "outputs": [
    {
     "name": "stdout",
     "output_type": "stream",
     "text": [
      "{'Name': 'Yashodha', 'USN': '1NT20IS416', 'Branch': 'ISE', 'Subject': ['sc', 'spm']}\n",
      "4\n",
      "<class 'dict'>\n"
     ]
    }
   ],
   "source": [
    "dictionary = {\n",
    "    \"Name\" : \"Yashodha\",\n",
    "    \"USN\" : \"1NT20IS416\",\n",
    "    \"Branch\" : \"ISE\",\n",
    "    \"Subject\": [\"sc\",\"spm\"]\n",
    "}\n",
    "print(dictionary)\n",
    "print(len(dictionary))\n",
    "print(type(dictionary))"
   ]
  },
  {
   "cell_type": "code",
   "execution_count": 24,
   "metadata": {},
   "outputs": [
    {
     "name": "stdout",
     "output_type": "stream",
     "text": [
      "{'chandini', 'annapurna', 'asha', 'yashodha'}\n"
     ]
    }
   ],
   "source": [
    "names = {\"yashodha\",\"chandini\",\"annapurna\",\"asha\",\"yashodha\",\"asha\"}\n",
    "print(names)"
   ]
  },
  {
   "cell_type": "code",
   "execution_count": 31,
   "metadata": {},
   "outputs": [
    {
     "name": "stdout",
     "output_type": "stream",
     "text": [
      "['yashodha', 'annapurna', 'Chandini']\n",
      "<class 'list'>\n"
     ]
    }
   ],
   "source": [
    "name1 = [\"yashodha\",\"annapurna\",\"Chandini\"]\n",
    "name2 = [416,401,403]\n",
    "print(name1)\n",
    "print(type(name2))"
   ]
  },
  {
   "cell_type": "code",
   "execution_count": 34,
   "metadata": {},
   "outputs": [
    {
     "name": "stdout",
     "output_type": "stream",
     "text": [
      "b is not greate that a\n"
     ]
    }
   ],
   "source": [
    "#boolean\n",
    "a = 200\n",
    "b = 33\n",
    "if b > a:\n",
    "    print(\"b is greater than a\")\n",
    "else:\n",
    "    print(\"b is not greate that a\")"
   ]
  },
  {
   "cell_type": "code",
   "execution_count": 35,
   "metadata": {},
   "outputs": [
    {
     "name": "stdout",
     "output_type": "stream",
     "text": [
      "True\n",
      "True\n"
     ]
    }
   ],
   "source": [
    "x = \"Hello\"\n",
    "y = 15\n",
    "\n",
    "print(bool(x))\n",
    "print(bool(y))"
   ]
  },
  {
   "cell_type": "code",
   "execution_count": 36,
   "metadata": {},
   "outputs": [
    {
     "data": {
      "text/plain": [
       "True"
      ]
     },
     "execution_count": 36,
     "metadata": {},
     "output_type": "execute_result"
    }
   ],
   "source": [
    "bool(\"abc\")\n",
    "bool(123)\n",
    "bool([\"apple\",\"cherry\",\"banana\"])"
   ]
  },
  {
   "cell_type": "code",
   "execution_count": 38,
   "metadata": {},
   "outputs": [
    {
     "name": "stdout",
     "output_type": "stream",
     "text": [
      "apple\n",
      "banana\n",
      "cherry\n"
     ]
    }
   ],
   "source": [
    "fruits = [\"apple\",\"banana\",\"cherry\"]\n",
    "for x in fruits:\n",
    "    print(x)"
   ]
  },
  {
   "cell_type": "code",
   "execution_count": 39,
   "metadata": {},
   "outputs": [
    {
     "name": "stdout",
     "output_type": "stream",
     "text": [
      "apple\n",
      "banana\n"
     ]
    }
   ],
   "source": [
    "fruits = [\"apple\",\"banana\",\"cherry\"]\n",
    "for x in fruits:\n",
    "    print(x)\n",
    "    if x == \"banana\":\n",
    "        break"
   ]
  },
  {
   "cell_type": "code",
   "execution_count": 42,
   "metadata": {},
   "outputs": [
    {
     "name": "stdout",
     "output_type": "stream",
     "text": [
      "2\n",
      "5\n",
      "8\n",
      "11\n",
      "14\n",
      "17\n",
      "20\n",
      "23\n",
      "26\n",
      "29\n"
     ]
    }
   ],
   "source": [
    "for x in range(2,30,3):\n",
    "    print(x)"
   ]
  },
  {
   "cell_type": "code",
   "execution_count": 43,
   "metadata": {},
   "outputs": [
    {
     "name": "stdout",
     "output_type": "stream",
     "text": [
      "0\n",
      "1\n",
      "2\n",
      "3\n",
      "4\n",
      "5\n",
      "Finally finished!\n"
     ]
    }
   ],
   "source": [
    "for x in range(6):\n",
    "    print(x)\n",
    "else:\n",
    "    print(\"Finally finished!\")"
   ]
  },
  {
   "cell_type": "code",
   "execution_count": 46,
   "metadata": {},
   "outputs": [
    {
     "name": "stdout",
     "output_type": "stream",
     "text": [
      "0\n",
      "1\n"
     ]
    }
   ],
   "source": [
    "for x in range(6):\n",
    "    if x == 2: break\n",
    "    print(x)\n",
    "else:\n",
    "    print(\"Finally finished!\")"
   ]
  },
  {
   "cell_type": "code",
   "execution_count": 47,
   "metadata": {},
   "outputs": [
    {
     "name": "stdout",
     "output_type": "stream",
     "text": [
      "red apple\n",
      "red banana\n",
      "red cherry\n",
      "big apple\n",
      "big banana\n",
      "big cherry\n",
      "tasty apple\n",
      "tasty banana\n",
      "tasty cherry\n"
     ]
    }
   ],
   "source": [
    "adj = [\"red\",\"big\",\"tasty\"]\n",
    "fruits = [\"apple\",\"banana\",\"cherry\"]\n",
    "\n",
    "for x in adj:\n",
    "    for y in fruits:\n",
    "        print(x,y)"
   ]
  },
  {
   "cell_type": "code",
   "execution_count": 1,
   "metadata": {},
   "outputs": [
    {
     "name": "stdout",
     "output_type": "stream",
     "text": [
      "Chandini Yashodha Annapurna\n"
     ]
    }
   ],
   "source": [
    "#swap,linear,binary,bubble\n",
    "a=\"Yashodha\"\n",
    "b=\"Chandini\"\n",
    "c=\"Annapurna\"\n",
    "b,a,c=a,b,c\n",
    "print(a,b,c)"
   ]
  },
  {
   "cell_type": "code",
   "execution_count": 57,
   "metadata": {},
   "outputs": [
    {
     "name": "stdout",
     "output_type": "stream",
     "text": [
      "5\n"
     ]
    }
   ],
   "source": [
    "#linear search\n",
    "def search(a,key):\n",
    "    for i in range(len(a)):\n",
    "        if key==a[i]:\n",
    "            return i+1\n",
    "    return -1\n",
    "a=[10,20,30,40,50,60]\n",
    "print(search(a,50))  \n"
   ]
  },
  {
   "cell_type": "code",
   "execution_count": 34,
   "metadata": {},
   "outputs": [
    {
     "name": "stdout",
     "output_type": "stream",
     "text": [
      "7\n"
     ]
    }
   ],
   "source": [
    "numbers = [80,90,100,120,130,145,150]\n",
    "length = len(numbers);\n",
    "print(length)\n"
   ]
  },
  {
   "cell_type": "markdown",
   "metadata": {},
   "source": []
  },
  {
   "cell_type": "markdown",
   "metadata": {},
   "source": [
    "# Mean program\n"
   ]
  },
  {
   "cell_type": "code",
   "execution_count": 36,
   "metadata": {},
   "outputs": [
    {
     "name": "stdout",
     "output_type": "stream",
     "text": [
      "Mean is 116.42857142857143\n"
     ]
    }
   ],
   "source": [
    "def Mean():\n",
    "    length = len(numbers)\n",
    "    sum = 0\n",
    "    for i in numbers:\n",
    "        sum = sum+i\n",
    "        mean= sum/length\n",
    "    print(\"Mean is\",mean)\n",
    "Mean()"
   ]
  },
  {
   "cell_type": "markdown",
   "metadata": {},
   "source": [
    "# Median Program"
   ]
  },
  {
   "cell_type": "code",
   "execution_count": 55,
   "metadata": {},
   "outputs": [
    {
     "name": "stdout",
     "output_type": "stream",
     "text": [
      "Median is:120\n"
     ]
    }
   ],
   "source": [
    "n = len(numbers)\n",
    "numbers.sort()\n",
    "\n",
    "if n % 2 ==0:\n",
    "    median1 = numbers[n//2]\n",
    "    median2 = numbers[n = [n//2 - 1]\n",
    "    median = (median1 + median2)/2\n",
    "else:\n",
    "    median = numbers[n//2]\n",
    "print(\"Median is:\" + str(median))"
   ]
  },
  {
   "cell_type": "markdown",
   "metadata": {},
   "source": [
    "# Mode Program"
   ]
  },
  {
   "cell_type": "code",
   "execution_count": 11,
   "metadata": {},
   "outputs": [
    {
     "data": {
      "text/plain": [
       "(100, 4)"
      ]
     },
     "execution_count": 11,
     "metadata": {},
     "output_type": "execute_result"
    }
   ],
   "source": [
    "n = [80,90,100,100,100,100,120,130,145,150]\n",
    "def calculate_mode(list_of_numbers):\n",
    "    counter = {}\n",
    "    for i in list_of_numbers:\n",
    "        if i in counter:\n",
    "            counter[i]+=1\n",
    "        else:\n",
    "            counter[i] = 1\n",
    "    key_max = sorted(counter, key=counter.get, reverse=True)[:1][0]\n",
    "    frequency = counter[key_max]\n",
    "    return key_max, frequency\n",
    " \n",
    "calculate_mode(n)\n"
   ]
  },
  {
   "cell_type": "code",
   "execution_count": 8,
   "metadata": {},
   "outputs": [
    {
     "name": "stdout",
     "output_type": "stream",
     "text": [
      "3\n"
     ]
    }
   ],
   "source": [
    "#binary search\n",
    "def binary(a,l,h,item):\n",
    "    while l<=h:\n",
    "        mid=l+h //2\n",
    "        if a[mid]==item:\n",
    "            return mid\n",
    "        elif a[mid]< item:\n",
    "            l=mid+1\n",
    "        else:\n",
    "            h=mid-1\n",
    "    return -1\n",
    "    \n",
    "a=[10,20,30,40,50,60,70,80]\n",
    "print(binary(a,0,len(a),40))"
   ]
  },
  {
   "cell_type": "code",
   "execution_count": 60,
   "metadata": {},
   "outputs": [
    {
     "data": {
      "text/plain": [
       "[2, 3, 33, 34, 44, 55, 57, 116, 233, 988]"
      ]
     },
     "execution_count": 60,
     "metadata": {},
     "output_type": "execute_result"
    }
   ],
   "source": [
    "#bubble sort\n",
    "def bubble(a):\n",
    "    for j in range(len(a)):\n",
    "        for i in range(0,len(a)-j-1):\n",
    "            if a[i]>a[i+1]:\n",
    "                a[i],a[i+1]=a[i+1],a[i]\n",
    "    return #bubble sort\n",
    "def bubble(a):\n",
    "    for j in range(len(a)):\n",
    "        for i in range(0,len(a)-j-1):\n",
    "            if a[i]>a[i+1]:\n",
    "                a[i],a[i+1]=a[i+1],a[i]\n",
    "    return a\n",
    "a=[233,44,116,3,57,33,2,34,55,988]\n",
    "bubble(a)a\n",
    "a=[233,44,116,3,57,33,2,34,55,988]\n",
    "bubble(a)"
   ]
  },
  {
   "cell_type": "markdown",
   "metadata": {},
   "source": [
    "# variance"
   ]
  },
  {
   "cell_type": "code",
   "execution_count": 32,
   "metadata": {},
   "outputs": [
    {
     "name": "stdout",
     "output_type": "stream",
     "text": [
      "633.6734693877551\n"
     ]
    }
   ],
   "source": [
    "import numpy as np\n",
    "data=[80,90,100,120,130,145,150]\n",
    "variance= np.var(data)\n",
    "print(variance)"
   ]
  },
  {
   "cell_type": "markdown",
   "metadata": {},
   "source": [
    "# standard deviation"
   ]
  },
  {
   "cell_type": "code",
   "execution_count": 31,
   "metadata": {},
   "outputs": [
    {
     "name": "stdout",
     "output_type": "stream",
     "text": [
      "Standard derivation is: 25.172871695294422\n"
     ]
    }
   ],
   "source": [
    "import math\n",
    "n = [80,90,100,120,130,145,150]\n",
    "mean =  sum(n)/len(n)\n",
    "var = sum(pow(x-mean,2) for x in n) / len(n)\n",
    "std = math.sqrt(var)\n",
    "print(\"Standard derivation is:\",+std)"
   ]
  },
  {
   "cell_type": "markdown",
   "metadata": {},
   "source": []
  },
  {
   "cell_type": "code",
   "execution_count": 1,
   "metadata": {},
   "outputs": [
    {
     "name": "stdout",
     "output_type": "stream",
     "text": [
      "\n",
      "Iteration  1\n",
      "Centroid 0 [4.0, 20.0]\n",
      "Centroid 1 [7.0, 7.6]\n",
      "Centroid 2 [2.0, 4.5]\n",
      "Point:  0 Cluster: 0\n",
      "Point:  1 Cluster: 2\n",
      "Point:  2 Cluster: 1\n",
      "Point:  3 Cluster: 1\n",
      "Point:  4 Cluster: 1\n",
      "Point:  5 Cluster: 1\n",
      "Point:  6 Cluster: 2\n",
      "Point:  7 Cluster: 1\n",
      "\n",
      "Iteration  2\n",
      "Centroid 0 [4.0, 20.0]\n",
      "Centroid 1 [7.4, 7.52]\n",
      "Centroid 2 [2.3333, 7.1667]\n",
      "Point:  0 Cluster: 2\n",
      "Point:  1 Cluster: 2\n",
      "Point:  2 Cluster: 1\n",
      "Point:  3 Cluster: 1\n",
      "Point:  4 Cluster: 1\n",
      "Point:  5 Cluster: 1\n",
      "Point:  6 Cluster: 2\n",
      "Point:  7 Cluster: 1\n",
      "\n",
      "Iteration  3\n",
      "Centroid 0 [4.0, 20.0]\n",
      "Centroid 1 [8.35, 7.13]\n",
      "Centroid 2 [2.8333, 8.2917]\n",
      "Point:  0 Cluster: 2\n",
      "Point:  1 Cluster: 2\n",
      "Point:  2 Cluster: 1\n",
      "Point:  3 Cluster: 1\n",
      "Point:  4 Cluster: 1\n",
      "Point:  5 Cluster: 1\n",
      "Point:  6 Cluster: 2\n",
      "Point:  7 Cluster: 2\n",
      "\n",
      "Iteration  4\n",
      "Centroid 0 [4.0, 20.0]\n",
      "Centroid 1 [9.7833, 6.71]\n",
      "Centroid 2 [3.3667, 8.4583]\n",
      "Point:  0 Cluster: 2\n",
      "Point:  1 Cluster: 2\n",
      "Point:  2 Cluster: 1\n",
      "Point:  3 Cluster: 2\n",
      "Point:  4 Cluster: 1\n",
      "Point:  5 Cluster: 1\n",
      "Point:  6 Cluster: 2\n",
      "Point:  7 Cluster: 2\n",
      "\n",
      "Iteration  5\n",
      "Centroid 0 [4.0, 20.0]\n",
      "Centroid 1 [10.2611, 6.57]\n",
      "Centroid 2 [3.4733, 8.4917]\n",
      "Point:  0 Cluster: 2\n",
      "Point:  1 Cluster: 2\n",
      "Point:  2 Cluster: 1\n",
      "Point:  3 Cluster: 2\n",
      "Point:  4 Cluster: 1\n",
      "Point:  5 Cluster: 1\n",
      "Point:  6 Cluster: 2\n",
      "Point:  7 Cluster: 2\n",
      "\n",
      "Iteration  6\n",
      "Centroid 0 [4.0, 20.0]\n",
      "Centroid 1 [10.4204, 6.5233]\n",
      "Centroid 2 [3.4947, 8.4983]\n",
      "Point:  0 Cluster: 2\n",
      "Point:  1 Cluster: 2\n",
      "Point:  2 Cluster: 1\n",
      "Point:  3 Cluster: 2\n",
      "Point:  4 Cluster: 1\n",
      "Point:  5 Cluster: 1\n",
      "Point:  6 Cluster: 2\n",
      "Point:  7 Cluster: 2\n",
      "\n",
      "Iteration  7\n",
      "Centroid 0 [4.0, 20.0]\n",
      "Centroid 1 [10.4735, 6.5078]\n",
      "Centroid 2 [3.4989, 8.4997]\n",
      "Point:  0 Cluster: 2\n",
      "Point:  1 Cluster: 2\n",
      "Point:  2 Cluster: 1\n",
      "Point:  3 Cluster: 2\n",
      "Point:  4 Cluster: 1\n",
      "Point:  5 Cluster: 1\n",
      "Point:  6 Cluster: 2\n",
      "Point:  7 Cluster: 2\n",
      "\n",
      "Iteration  8\n",
      "Centroid 0 [4.0, 20.0]\n",
      "Centroid 1 [10.4912, 6.5026]\n",
      "Centroid 2 [3.4998, 8.4999]\n",
      "Point:  0 Cluster: 2\n",
      "Point:  1 Cluster: 2\n",
      "Point:  2 Cluster: 1\n",
      "Point:  3 Cluster: 2\n",
      "Point:  4 Cluster: 1\n",
      "Point:  5 Cluster: 1\n",
      "Point:  6 Cluster: 2\n",
      "Point:  7 Cluster: 2\n",
      "\n",
      "Iteration  9\n",
      "Centroid 0 [4.0, 20.0]\n",
      "Centroid 1 [10.4971, 6.5009]\n",
      "Centroid 2 [3.5, 8.5]\n",
      "Point:  0 Cluster: 2\n",
      "Point:  1 Cluster: 2\n",
      "Point:  2 Cluster: 1\n",
      "Point:  3 Cluster: 2\n",
      "Point:  4 Cluster: 1\n",
      "Point:  5 Cluster: 1\n",
      "Point:  6 Cluster: 2\n",
      "Point:  7 Cluster: 2\n",
      "\n",
      "Iteration  10\n",
      "Centroid 0 [4.0, 20.0]\n",
      "Centroid 1 [10.499, 6.5003]\n",
      "Centroid 2 [3.5, 8.5]\n",
      "Point:  0 Cluster: 2\n",
      "Point:  1 Cluster: 2\n",
      "Point:  2 Cluster: 1\n",
      "Point:  3 Cluster: 2\n",
      "Point:  4 Cluster: 1\n",
      "Point:  5 Cluster: 1\n",
      "Point:  6 Cluster: 2\n",
      "Point:  7 Cluster: 2\n",
      "\n",
      "Iteration  11\n",
      "Centroid 0 [4.0, 20.0]\n",
      "Centroid 1 [10.4997, 6.5001]\n",
      "Centroid 2 [3.5, 8.5]\n",
      "Point:  0 Cluster: 2\n",
      "Point:  1 Cluster: 2\n",
      "Point:  2 Cluster: 1\n",
      "Point:  3 Cluster: 2\n",
      "Point:  4 Cluster: 1\n",
      "Point:  5 Cluster: 1\n",
      "Point:  6 Cluster: 2\n",
      "Point:  7 Cluster: 2\n",
      "\n",
      "Iteration  12\n",
      "Centroid 0 [4.0, 20.0]\n",
      "Centroid 1 [10.4999, 6.5]\n",
      "Centroid 2 [3.5, 8.5]\n",
      "Point:  0 Cluster: 2\n",
      "Point:  1 Cluster: 2\n",
      "Point:  2 Cluster: 1\n",
      "Point:  3 Cluster: 2\n",
      "Point:  4 Cluster: 1\n",
      "Point:  5 Cluster: 1\n",
      "Point:  6 Cluster: 2\n",
      "Point:  7 Cluster: 2\n",
      "\n",
      "Iteration  13\n",
      "Centroid 0 [4.0, 20.0]\n",
      "Centroid 1 [10.5, 6.5]\n",
      "Centroid 2 [3.5, 8.5]\n",
      "Point:  0 Cluster: 2\n",
      "Point:  1 Cluster: 2\n",
      "Point:  2 Cluster: 1\n",
      "Point:  3 Cluster: 2\n",
      "Point:  4 Cluster: 1\n",
      "Point:  5 Cluster: 1\n",
      "Point:  6 Cluster: 2\n",
      "Point:  7 Cluster: 2\n",
      "\n",
      "Iteration  14\n",
      "Centroid 0 [4.0, 20.0]\n",
      "Centroid 1 [10.5, 6.5]\n",
      "Centroid 2 [3.5, 8.5]\n",
      "Point:  0 Cluster: 2\n",
      "Point:  1 Cluster: 2\n",
      "Point:  2 Cluster: 1\n",
      "Point:  3 Cluster: 2\n",
      "Point:  4 Cluster: 1\n",
      "Point:  5 Cluster: 1\n",
      "Point:  6 Cluster: 2\n",
      "Point:  7 Cluster: 2\n",
      "\n",
      "Iteration  15\n",
      "Centroid 0 [4.0, 20.0]\n",
      "Centroid 1 [10.5, 6.5]\n",
      "Centroid 2 [3.5, 8.5]\n",
      "Point:  0 Cluster: 2\n",
      "Point:  1 Cluster: 2\n",
      "Point:  2 Cluster: 1\n",
      "Point:  3 Cluster: 2\n",
      "Point:  4 Cluster: 1\n",
      "Point:  5 Cluster: 1\n",
      "Point:  6 Cluster: 2\n",
      "Point:  7 Cluster: 2\n"
     ]
    }
   ],
   "source": [
    "def getSquaredDistance(point1, point2):\n",
    "    return round(((point2[0] - point1[0])**2 + (point2[1] - point1[1])**2),4)\n",
    "\n",
    "def getDistanceFromPoints(centroids, datapoints):\n",
    "    distance_from_cluster = []     # [cluster1_distances, cluster2_distances,...]\n",
    "    intermediate_result = []\n",
    "    for i in centroids:\n",
    "        for j in datapoints:\n",
    "            intermediate_result.append(getSquaredDistance(i,j))\n",
    "        distance_from_cluster.append(intermediate_result)\n",
    "        intermediate_result = []   # reset intermediate_result as empty list\n",
    "    return distance_from_cluster\n",
    "\n",
    "\n",
    "def printResult(centroids, point_to_cluster_mapping):\n",
    "    for i in range(len(centroids)):\n",
    "        print(\"Centroid\",i,centroids[i])\n",
    "    for i in point_to_cluster_mapping:\n",
    "        print(\"Point: \",i,\"Cluster:\",point_to_cluster_mapping[i])\n",
    "\n",
    "def kmeansclustering(centroids, datapoints):\n",
    "    '''\n",
    "    Driver code for K-Means clustering\n",
    "    '''\n",
    "    k = len(centroids)\n",
    "    distance_from_cluster = getDistanceFromPoints(centroids, datapoints) # [cluster1_distances, cluster2_distances,...]\n",
    "    \n",
    "    \n",
    "    # assign each datapoint to the nearest cluster\n",
    "    \n",
    "    point_to_cluster_mapping = {}   # point -> cluster\n",
    "    max_valued_cluster = 0\n",
    "    for i in range(len(datapoints)):\n",
    "        point_to_cluster_mapping[i] = None  # initial mapping as None\n",
    "        for cluster in range(len(centroids)):\n",
    "            if distance_from_cluster[cluster][i] < distance_from_cluster[max_valued_cluster][i]:\n",
    "                max_valued_cluster = cluster\n",
    "        point_to_cluster_mapping[i] = max_valued_cluster\n",
    "    \n",
    "    # compute new centroids by averaging with new points\n",
    "    cluster_counter = 0       # [cluster1_new_elements_added, cluster2_new_elements_added...]\n",
    "    for i in range(len(centroids)):\n",
    "        for j in point_to_cluster_mapping:\n",
    "            if point_to_cluster_mapping[j] == i:\n",
    "                centroids[i][0] += datapoints[j][0]   # x-coordinate adding\n",
    "                centroids[i][1] += datapoints[j][1]   # y-coordinate adding\n",
    "                cluster_counter += 1\n",
    "        if cluster_counter != 0:\n",
    "            centroids[i][0] = round(centroids[i][0]/cluster_counter,4)\n",
    "            centroids[i][1] = round(centroids[i][1]/cluster_counter,4)\n",
    "            cluster_counter = 0\n",
    "        \n",
    "    printResult(centroids, point_to_cluster_mapping)\n",
    "    return centroids\n",
    "\n",
    "\n",
    "def kmeans_iterator(centroids, datapoints):\n",
    "    old_centroids = centroids\n",
    "    new_centroids = centroids\n",
    "    iteration = 0\n",
    "    \n",
    "    while iteration != 15:\n",
    "        iteration += 1\n",
    "        print(\"\\nIteration \", iteration)\n",
    "        old_centroidnormalizations = new_centroids\n",
    "        new_centroids = kmeansclustering(new_centroids, datapoints)  \n",
    "\n",
    "\n",
    "centroids = [[2,10], [5,8], [1,2]]\n",
    "datapoints = [[2,10], [2,5], [8,4], [5,8], [7,5], [6,4], [1,2], [4,9]]\n",
    "\n",
    "\n",
    "kmeans_iterator(centroids, datapoints)"
   ]
  },
  {
   "cell_type": "code",
   "execution_count": 14,
   "metadata": {},
   "outputs": [
    {
     "ename": "ParserError",
     "evalue": "Error tokenizing data. C error: Expected 1 fields in line 23, saw 7\n",
     "output_type": "error",
     "traceback": [
      "\u001b[0;31m---------------------------------------------------------------------------\u001b[0m",
      "\u001b[0;31mParserError\u001b[0m                               Traceback (most recent call last)",
      "\u001b[0;32m/tmp/ipykernel_18286/1673189514.py\u001b[0m in \u001b[0;36m<module>\u001b[0;34m\u001b[0m\n\u001b[1;32m      3\u001b[0m \u001b[0;32mimport\u001b[0m \u001b[0mmatplotlib\u001b[0m\u001b[0;34m.\u001b[0m\u001b[0mpyplot\u001b[0m \u001b[0;32mas\u001b[0m \u001b[0mplt\u001b[0m\u001b[0;34m\u001b[0m\u001b[0;34m\u001b[0m\u001b[0m\n\u001b[1;32m      4\u001b[0m \u001b[0;34m\u001b[0m\u001b[0m\n\u001b[0;32m----> 5\u001b[0;31m \u001b[0mdf\u001b[0m\u001b[0;34m=\u001b[0m \u001b[0mpd\u001b[0m\u001b[0;34m.\u001b[0m\u001b[0mread_csv\u001b[0m\u001b[0;34m(\u001b[0m\u001b[0;34m\"/home/iignis/Downloads/zoo.csv\"\u001b[0m\u001b[0;34m)\u001b[0m\u001b[0;34m\u001b[0m\u001b[0;34m\u001b[0m\u001b[0m\n\u001b[0m\u001b[1;32m      6\u001b[0m \u001b[0mdf\u001b[0m\u001b[0;34m.\u001b[0m\u001b[0mhead\u001b[0m\u001b[0;34m(\u001b[0m\u001b[0;34m)\u001b[0m\u001b[0;34m\u001b[0m\u001b[0;34m\u001b[0m\u001b[0m\n\u001b[1;32m      7\u001b[0m \u001b[0;34m\u001b[0m\u001b[0m\n",
      "\u001b[0;32m~/.local/lib/python3.10/site-packages/pandas/util/_decorators.py\u001b[0m in \u001b[0;36mwrapper\u001b[0;34m(*args, **kwargs)\u001b[0m\n\u001b[1;32m    209\u001b[0m                 \u001b[0;32melse\u001b[0m\u001b[0;34m:\u001b[0m\u001b[0;34m\u001b[0m\u001b[0;34m\u001b[0m\u001b[0m\n\u001b[1;32m    210\u001b[0m                     \u001b[0mkwargs\u001b[0m\u001b[0;34m[\u001b[0m\u001b[0mnew_arg_name\u001b[0m\u001b[0;34m]\u001b[0m \u001b[0;34m=\u001b[0m \u001b[0mnew_arg_value\u001b[0m\u001b[0;34m\u001b[0m\u001b[0;34m\u001b[0m\u001b[0m\n\u001b[0;32m--> 211\u001b[0;31m             \u001b[0;32mreturn\u001b[0m \u001b[0mfunc\u001b[0m\u001b[0;34m(\u001b[0m\u001b[0;34m*\u001b[0m\u001b[0margs\u001b[0m\u001b[0;34m,\u001b[0m \u001b[0;34m**\u001b[0m\u001b[0mkwargs\u001b[0m\u001b[0;34m)\u001b[0m\u001b[0;34m\u001b[0m\u001b[0;34m\u001b[0m\u001b[0m\n\u001b[0m\u001b[1;32m    212\u001b[0m \u001b[0;34m\u001b[0m\u001b[0m\n\u001b[1;32m    213\u001b[0m         \u001b[0;32mreturn\u001b[0m \u001b[0mcast\u001b[0m\u001b[0;34m(\u001b[0m\u001b[0mF\u001b[0m\u001b[0;34m,\u001b[0m \u001b[0mwrapper\u001b[0m\u001b[0;34m)\u001b[0m\u001b[0;34m\u001b[0m\u001b[0;34m\u001b[0m\u001b[0m\n",
      "\u001b[0;32m~/.local/lib/python3.10/site-packages/pandas/util/_decorators.py\u001b[0m in \u001b[0;36mwrapper\u001b[0;34m(*args, **kwargs)\u001b[0m\n\u001b[1;32m    329\u001b[0m                     \u001b[0mstacklevel\u001b[0m\u001b[0;34m=\u001b[0m\u001b[0mfind_stack_level\u001b[0m\u001b[0;34m(\u001b[0m\u001b[0;34m)\u001b[0m\u001b[0;34m,\u001b[0m\u001b[0;34m\u001b[0m\u001b[0;34m\u001b[0m\u001b[0m\n\u001b[1;32m    330\u001b[0m                 )\n\u001b[0;32m--> 331\u001b[0;31m             \u001b[0;32mreturn\u001b[0m \u001b[0mfunc\u001b[0m\u001b[0;34m(\u001b[0m\u001b[0;34m*\u001b[0m\u001b[0margs\u001b[0m\u001b[0;34m,\u001b[0m \u001b[0;34m**\u001b[0m\u001b[0mkwargs\u001b[0m\u001b[0;34m)\u001b[0m\u001b[0;34m\u001b[0m\u001b[0;34m\u001b[0m\u001b[0m\n\u001b[0m\u001b[1;32m    332\u001b[0m \u001b[0;34m\u001b[0m\u001b[0m\n\u001b[1;32m    333\u001b[0m         \u001b[0;31m# error: \"Callable[[VarArg(Any), KwArg(Any)], Any]\" has no\u001b[0m\u001b[0;34m\u001b[0m\u001b[0;34m\u001b[0m\u001b[0m\n",
      "\u001b[0;32m~/.local/lib/python3.10/site-packages/pandas/io/parsers/readers.py\u001b[0m in \u001b[0;36mread_csv\u001b[0;34m(filepath_or_buffer, sep, delimiter, header, names, index_col, usecols, squeeze, prefix, mangle_dupe_cols, dtype, engine, converters, true_values, false_values, skipinitialspace, skiprows, skipfooter, nrows, na_values, keep_default_na, na_filter, verbose, skip_blank_lines, parse_dates, infer_datetime_format, keep_date_col, date_parser, dayfirst, cache_dates, iterator, chunksize, compression, thousands, decimal, lineterminator, quotechar, quoting, doublequote, escapechar, comment, encoding, encoding_errors, dialect, error_bad_lines, warn_bad_lines, on_bad_lines, delim_whitespace, low_memory, memory_map, float_precision, storage_options)\u001b[0m\n\u001b[1;32m    948\u001b[0m     \u001b[0mkwds\u001b[0m\u001b[0;34m.\u001b[0m\u001b[0mupdate\u001b[0m\u001b[0;34m(\u001b[0m\u001b[0mkwds_defaults\u001b[0m\u001b[0;34m)\u001b[0m\u001b[0;34m\u001b[0m\u001b[0;34m\u001b[0m\u001b[0m\n\u001b[1;32m    949\u001b[0m \u001b[0;34m\u001b[0m\u001b[0m\n\u001b[0;32m--> 950\u001b[0;31m     \u001b[0;32mreturn\u001b[0m \u001b[0m_read\u001b[0m\u001b[0;34m(\u001b[0m\u001b[0mfilepath_or_buffer\u001b[0m\u001b[0;34m,\u001b[0m \u001b[0mkwds\u001b[0m\u001b[0;34m)\u001b[0m\u001b[0;34m\u001b[0m\u001b[0;34m\u001b[0m\u001b[0m\n\u001b[0m\u001b[1;32m    951\u001b[0m \u001b[0;34m\u001b[0m\u001b[0m\n\u001b[1;32m    952\u001b[0m \u001b[0;34m\u001b[0m\u001b[0m\n",
      "\u001b[0;32m~/.local/lib/python3.10/site-packages/pandas/io/parsers/readers.py\u001b[0m in \u001b[0;36m_read\u001b[0;34m(filepath_or_buffer, kwds)\u001b[0m\n\u001b[1;32m    609\u001b[0m \u001b[0;34m\u001b[0m\u001b[0m\n\u001b[1;32m    610\u001b[0m     \u001b[0;32mwith\u001b[0m \u001b[0mparser\u001b[0m\u001b[0;34m:\u001b[0m\u001b[0;34m\u001b[0m\u001b[0;34m\u001b[0m\u001b[0m\n\u001b[0;32m--> 611\u001b[0;31m         \u001b[0;32mreturn\u001b[0m \u001b[0mparser\u001b[0m\u001b[0;34m.\u001b[0m\u001b[0mread\u001b[0m\u001b[0;34m(\u001b[0m\u001b[0mnrows\u001b[0m\u001b[0;34m)\u001b[0m\u001b[0;34m\u001b[0m\u001b[0;34m\u001b[0m\u001b[0m\n\u001b[0m\u001b[1;32m    612\u001b[0m \u001b[0;34m\u001b[0m\u001b[0m\n\u001b[1;32m    613\u001b[0m \u001b[0;34m\u001b[0m\u001b[0m\n",
      "\u001b[0;32m~/.local/lib/python3.10/site-packages/pandas/io/parsers/readers.py\u001b[0m in \u001b[0;36mread\u001b[0;34m(self, nrows)\u001b[0m\n\u001b[1;32m   1776\u001b[0m                     \u001b[0mcolumns\u001b[0m\u001b[0;34m,\u001b[0m\u001b[0;34m\u001b[0m\u001b[0;34m\u001b[0m\u001b[0m\n\u001b[1;32m   1777\u001b[0m                     \u001b[0mcol_dict\u001b[0m\u001b[0;34m,\u001b[0m\u001b[0;34m\u001b[0m\u001b[0;34m\u001b[0m\u001b[0m\n\u001b[0;32m-> 1778\u001b[0;31m                 \u001b[0;34m)\u001b[0m \u001b[0;34m=\u001b[0m \u001b[0mself\u001b[0m\u001b[0;34m.\u001b[0m\u001b[0m_engine\u001b[0m\u001b[0;34m.\u001b[0m\u001b[0mread\u001b[0m\u001b[0;34m(\u001b[0m  \u001b[0;31m# type: ignore[attr-defined]\u001b[0m\u001b[0;34m\u001b[0m\u001b[0;34m\u001b[0m\u001b[0m\n\u001b[0m\u001b[1;32m   1779\u001b[0m                     \u001b[0mnrows\u001b[0m\u001b[0;34m\u001b[0m\u001b[0;34m\u001b[0m\u001b[0m\n\u001b[1;32m   1780\u001b[0m                 )\n",
      "\u001b[0;32m~/.local/lib/python3.10/site-packages/pandas/io/parsers/c_parser_wrapper.py\u001b[0m in \u001b[0;36mread\u001b[0;34m(self, nrows)\u001b[0m\n\u001b[1;32m    228\u001b[0m         \u001b[0;32mtry\u001b[0m\u001b[0;34m:\u001b[0m\u001b[0;34m\u001b[0m\u001b[0;34m\u001b[0m\u001b[0m\n\u001b[1;32m    229\u001b[0m             \u001b[0;32mif\u001b[0m \u001b[0mself\u001b[0m\u001b[0;34m.\u001b[0m\u001b[0mlow_memory\u001b[0m\u001b[0;34m:\u001b[0m\u001b[0;34m\u001b[0m\u001b[0;34m\u001b[0m\u001b[0m\n\u001b[0;32m--> 230\u001b[0;31m                 \u001b[0mchunks\u001b[0m \u001b[0;34m=\u001b[0m \u001b[0mself\u001b[0m\u001b[0;34m.\u001b[0m\u001b[0m_reader\u001b[0m\u001b[0;34m.\u001b[0m\u001b[0mread_low_memory\u001b[0m\u001b[0;34m(\u001b[0m\u001b[0mnrows\u001b[0m\u001b[0;34m)\u001b[0m\u001b[0;34m\u001b[0m\u001b[0;34m\u001b[0m\u001b[0m\n\u001b[0m\u001b[1;32m    231\u001b[0m                 \u001b[0;31m# destructive to chunks\u001b[0m\u001b[0;34m\u001b[0m\u001b[0;34m\u001b[0m\u001b[0m\n\u001b[1;32m    232\u001b[0m                 \u001b[0mdata\u001b[0m \u001b[0;34m=\u001b[0m \u001b[0m_concatenate_chunks\u001b[0m\u001b[0;34m(\u001b[0m\u001b[0mchunks\u001b[0m\u001b[0;34m)\u001b[0m\u001b[0;34m\u001b[0m\u001b[0;34m\u001b[0m\u001b[0m\n",
      "\u001b[0;32m~/.local/lib/python3.10/site-packages/pandas/_libs/parsers.pyx\u001b[0m in \u001b[0;36mpandas._libs.parsers.TextReader.read_low_memory\u001b[0;34m()\u001b[0m\n",
      "\u001b[0;32m~/.local/lib/python3.10/site-packages/pandas/_libs/parsers.pyx\u001b[0m in \u001b[0;36mpandas._libs.parsers.TextReader._read_rows\u001b[0;34m()\u001b[0m\n",
      "\u001b[0;32m~/.local/lib/python3.10/site-packages/pandas/_libs/parsers.pyx\u001b[0m in \u001b[0;36mpandas._libs.parsers.TextReader._tokenize_rows\u001b[0;34m()\u001b[0m\n",
      "\u001b[0;32m~/.local/lib/python3.10/site-packages/pandas/_libs/parsers.pyx\u001b[0m in \u001b[0;36mpandas._libs.parsers.raise_parser_error\u001b[0;34m()\u001b[0m\n",
      "\u001b[0;31mParserError\u001b[0m: Error tokenizing data. C error: Expected 1 fields in line 23, saw 7\n"
     ]
    }
   ],
   "source": [
    "import pandas as pd\n",
    "import numpy as np\n",
    "import matplotlib.pyplot as plt\n",
    "\n",
    "df= pd.read_csv(\"/home/iignis/Desktop/yashodha.csv\")\n",
    "df.head()\n",
    "\n",
    "class_type_output = df[\"class_type\"]\n",
    "df = df.drop(\"class_type\", axis=1).drop(\"animal_name\",axis=1)\n",
    "print(df)\n",
    "from sklearn.model_selection import train_test_split\n",
    "alued_cluster\n",
    "x_train, x_test, y_train, y_test = train_test_split(df, class_type_output, test_size=0.20)\n",
    "\n",
    "\n",
    "from sklearn.tree import DecisionTreeClassifier\n",
    "classifier = DecisionTreeClassifier()\n",
    "classifier.fit(x_train, y_train)\n",
    "\n",
    "\n",
    "y_prediction = classifier.predict(x_test)\n",
    "y_prediction\n",
    "\n",
    "\n",
    "from sklearn.metrics import classification_report, confusion_matrix, accuracy_score\n",
    "confusion_matrix(y_test,y_prediction)\n",
    "\n",
    "\n",
    "print(classification_report(y_test, y_prediction))\n",
    "\n",
    "\n",
    "print(accuracy_score(y_test, y_prediction))\n",
    "\n",
    "\n",
    "predicted_class = list(y_prediction)\n",
    "actual_class = list(y_test)\n",
    "for i in range(len(predicted_class)):\n",
    "    print(\"Predicted class =\", predicted_class[i],\"\\tActual class =\",actual_class[i])"
   ]
  },
  {
   "cell_type": "code",
   "execution_count": null,
   "metadata": {},
   "outputs": [],
   "source": []
  },
  {
   "cell_type": "code",
   "execution_count": null,
   "metadata": {},
   "outputs": [],
   "source": []
  }
 ],
 "metadata": {
  "kernelspec": {
   "display_name": "Python 3 (ipykernel)",
   "language": "python",
   "name": "python3"
  },
  "language_info": {
   "codemirror_mode": {
    "name": "ipython",
    "version": 3
   },
   "file_extension": ".py",
   "mimetype": "text/x-python",
   "name": "python",
   "nbconvert_exporter": "python",
   "pygments_lexer": "ipython3",
   "version": "3.10.6"
  }
 },
 "nbformat": 4,
 "nbformat_minor": 4
}
